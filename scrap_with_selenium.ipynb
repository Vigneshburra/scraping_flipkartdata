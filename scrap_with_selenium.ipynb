{
 "cells": [
  {
   "cell_type": "code",
   "execution_count": 1,
   "id": "26d0ba68-068c-4c61-9017-5ce87751251e",
   "metadata": {},
   "outputs": [
    {
     "name": "stdout",
     "output_type": "stream",
     "text": [
      "Collecting seleniumNote: you may need to restart the kernel to use updated packages.\n",
      "\n",
      "  Downloading selenium-4.19.0-py3-none-any.whl.metadata (6.9 kB)\n",
      "Requirement already satisfied: urllib3<3,>=1.26 in c:\\users\\burra\\appdata\\local\\programs\\python\\python312\\lib\\site-packages (from urllib3[socks]<3,>=1.26->selenium) (2.2.1)\n",
      "Collecting trio~=0.17 (from selenium)\n",
      "  Downloading trio-0.25.0-py3-none-any.whl.metadata (8.7 kB)\n",
      "Collecting trio-websocket~=0.9 (from selenium)\n",
      "  Downloading trio_websocket-0.11.1-py3-none-any.whl.metadata (4.7 kB)\n",
      "Requirement already satisfied: certifi>=2021.10.8 in c:\\users\\burra\\appdata\\local\\programs\\python\\python312\\lib\\site-packages (from selenium) (2024.2.2)\n",
      "Collecting typing_extensions>=4.9.0 (from selenium)\n",
      "  Downloading typing_extensions-4.10.0-py3-none-any.whl.metadata (3.0 kB)\n",
      "Requirement already satisfied: attrs>=23.2.0 in c:\\users\\burra\\appdata\\local\\programs\\python\\python312\\lib\\site-packages (from trio~=0.17->selenium) (23.2.0)\n",
      "Collecting sortedcontainers (from trio~=0.17->selenium)\n",
      "  Downloading sortedcontainers-2.4.0-py2.py3-none-any.whl.metadata (10 kB)\n",
      "Requirement already satisfied: idna in c:\\users\\burra\\appdata\\local\\programs\\python\\python312\\lib\\site-packages (from trio~=0.17->selenium) (3.6)\n",
      "Collecting outcome (from trio~=0.17->selenium)\n",
      "  Downloading outcome-1.3.0.post0-py2.py3-none-any.whl.metadata (2.6 kB)\n",
      "Requirement already satisfied: sniffio>=1.3.0 in c:\\users\\burra\\appdata\\local\\programs\\python\\python312\\lib\\site-packages (from trio~=0.17->selenium) (1.3.1)\n",
      "Requirement already satisfied: cffi>=1.14 in c:\\users\\burra\\appdata\\local\\programs\\python\\python312\\lib\\site-packages (from trio~=0.17->selenium) (1.16.0)\n",
      "Collecting wsproto>=0.14 (from trio-websocket~=0.9->selenium)\n",
      "  Downloading wsproto-1.2.0-py3-none-any.whl.metadata (5.6 kB)\n",
      "Collecting pysocks!=1.5.7,<2.0,>=1.5.6 (from urllib3[socks]<3,>=1.26->selenium)\n",
      "  Downloading PySocks-1.7.1-py3-none-any.whl.metadata (13 kB)\n",
      "Requirement already satisfied: pycparser in c:\\users\\burra\\appdata\\local\\programs\\python\\python312\\lib\\site-packages (from cffi>=1.14->trio~=0.17->selenium) (2.21)\n",
      "Requirement already satisfied: h11<1,>=0.9.0 in c:\\users\\burra\\appdata\\local\\programs\\python\\python312\\lib\\site-packages (from wsproto>=0.14->trio-websocket~=0.9->selenium) (0.14.0)\n",
      "Downloading selenium-4.19.0-py3-none-any.whl (10.5 MB)\n",
      "   ---------------------------------------- 0.0/10.5 MB ? eta -:--:--\n",
      "   ---------------------------------------- 0.0/10.5 MB ? eta -:--:--\n",
      "   ---------------------------------------- 0.0/10.5 MB ? eta -:--:--\n",
      "   ---------------------------------------- 0.0/10.5 MB ? eta -:--:--\n",
      "   ---------------------------------------- 0.0/10.5 MB ? eta -:--:--\n",
      "   ---------------------------------------- 0.0/10.5 MB ? eta -:--:--\n",
      "   ---------------------------------------- 0.1/10.5 MB 465.5 kB/s eta 0:00:23\n",
      "   ---------------------------------------- 0.1/10.5 MB 465.5 kB/s eta 0:00:23\n",
      "   ---------------------------------------- 0.1/10.5 MB 374.1 kB/s eta 0:00:28\n",
      "   ---------------------------------------- 0.1/10.5 MB 423.5 kB/s eta 0:00:25\n",
      "    --------------------------------------- 0.2/10.5 MB 490.7 kB/s eta 0:00:22\n",
      "    --------------------------------------- 0.2/10.5 MB 490.7 kB/s eta 0:00:22\n",
      "    --------------------------------------- 0.2/10.5 MB 490.7 kB/s eta 0:00:22\n",
      "    --------------------------------------- 0.2/10.5 MB 490.7 kB/s eta 0:00:22\n",
      "    --------------------------------------- 0.2/10.5 MB 490.7 kB/s eta 0:00:22\n",
      "    --------------------------------------- 0.2/10.5 MB 490.7 kB/s eta 0:00:22\n",
      "    --------------------------------------- 0.2/10.5 MB 490.7 kB/s eta 0:00:22\n",
      "    --------------------------------------- 0.2/10.5 MB 490.7 kB/s eta 0:00:22\n",
      "    --------------------------------------- 0.2/10.5 MB 490.7 kB/s eta 0:00:22\n",
      "    --------------------------------------- 0.2/10.5 MB 256.4 kB/s eta 0:00:41\n",
      "    --------------------------------------- 0.2/10.5 MB 256.4 kB/s eta 0:00:41\n",
      "    --------------------------------------- 0.2/10.5 MB 256.4 kB/s eta 0:00:41\n",
      "    --------------------------------------- 0.2/10.5 MB 256.4 kB/s eta 0:00:41\n",
      "    --------------------------------------- 0.2/10.5 MB 256.4 kB/s eta 0:00:41\n",
      "    --------------------------------------- 0.2/10.5 MB 256.4 kB/s eta 0:00:41\n",
      "    --------------------------------------- 0.2/10.5 MB 256.4 kB/s eta 0:00:41\n",
      "    --------------------------------------- 0.2/10.5 MB 224.9 kB/s eta 0:00:46\n",
      "    --------------------------------------- 0.2/10.5 MB 224.9 kB/s eta 0:00:46\n",
      "    --------------------------------------- 0.3/10.5 MB 221.4 kB/s eta 0:00:47\n",
      "    --------------------------------------- 0.3/10.5 MB 221.4 kB/s eta 0:00:47\n",
      "   - -------------------------------------- 0.3/10.5 MB 240.5 kB/s eta 0:00:43\n",
      "   - -------------------------------------- 0.3/10.5 MB 240.5 kB/s eta 0:00:43\n",
      "   - -------------------------------------- 0.4/10.5 MB 262.2 kB/s eta 0:00:39\n",
      "   - -------------------------------------- 0.4/10.5 MB 262.2 kB/s eta 0:00:39\n",
      "   - -------------------------------------- 0.4/10.5 MB 277.7 kB/s eta 0:00:37\n",
      "   - -------------------------------------- 0.4/10.5 MB 277.7 kB/s eta 0:00:37\n",
      "   - -------------------------------------- 0.4/10.5 MB 277.7 kB/s eta 0:00:37\n",
      "   - -------------------------------------- 0.4/10.5 MB 277.7 kB/s eta 0:00:37\n",
      "   - -------------------------------------- 0.4/10.5 MB 264.7 kB/s eta 0:00:39\n",
      "   - -------------------------------------- 0.5/10.5 MB 273.0 kB/s eta 0:00:37\n",
      "   - -------------------------------------- 0.5/10.5 MB 285.9 kB/s eta 0:00:35\n",
      "   -- ------------------------------------- 0.6/10.5 MB 339.2 kB/s eta 0:00:30\n",
      "   -- ------------------------------------- 0.7/10.5 MB 378.4 kB/s eta 0:00:26\n",
      "   --- ------------------------------------ 0.8/10.5 MB 418.4 kB/s eta 0:00:24\n",
      "   --- ------------------------------------ 0.9/10.5 MB 467.4 kB/s eta 0:00:21\n",
      "   --- ------------------------------------ 1.0/10.5 MB 509.7 kB/s eta 0:00:19\n",
      "   ---- ----------------------------------- 1.1/10.5 MB 558.1 kB/s eta 0:00:17\n",
      "   ---- ----------------------------------- 1.2/10.5 MB 595.6 kB/s eta 0:00:16\n",
      "   ----- ---------------------------------- 1.4/10.5 MB 640.6 kB/s eta 0:00:15\n",
      "   ----- ---------------------------------- 1.5/10.5 MB 683.9 kB/s eta 0:00:14\n",
      "   ------ --------------------------------- 1.6/10.5 MB 729.8 kB/s eta 0:00:13\n",
      "   ------ --------------------------------- 1.7/10.5 MB 769.7 kB/s eta 0:00:12\n",
      "   ------- -------------------------------- 1.9/10.5 MB 817.0 kB/s eta 0:00:11\n",
      "   ------- -------------------------------- 2.0/10.5 MB 857.7 kB/s eta 0:00:10\n",
      "   -------- ------------------------------- 2.2/10.5 MB 905.4 kB/s eta 0:00:10\n",
      "   -------- ------------------------------- 2.3/10.5 MB 953.4 kB/s eta 0:00:09\n",
      "   --------- ------------------------------ 2.5/10.5 MB 993.1 kB/s eta 0:00:09\n",
      "   ---------- ----------------------------- 2.6/10.5 MB 1.0 MB/s eta 0:00:08\n",
      "   ---------- ----------------------------- 2.8/10.5 MB 1.1 MB/s eta 0:00:08\n",
      "   ----------- ---------------------------- 2.9/10.5 MB 1.1 MB/s eta 0:00:07\n",
      "   ----------- ---------------------------- 3.1/10.5 MB 1.2 MB/s eta 0:00:07\n",
      "   ------------ --------------------------- 3.3/10.5 MB 1.2 MB/s eta 0:00:06\n",
      "   ------------- -------------------------- 3.4/10.5 MB 1.2 MB/s eta 0:00:06\n",
      "   ------------- -------------------------- 3.6/10.5 MB 1.3 MB/s eta 0:00:06\n",
      "   -------------- ------------------------- 3.8/10.5 MB 1.3 MB/s eta 0:00:06\n",
      "   --------------- ------------------------ 4.0/10.5 MB 1.4 MB/s eta 0:00:05\n",
      "   --------------- ------------------------ 4.2/10.5 MB 1.4 MB/s eta 0:00:05\n",
      "   ---------------- ----------------------- 4.4/10.5 MB 1.5 MB/s eta 0:00:05\n",
      "   ----------------- ---------------------- 4.6/10.5 MB 1.5 MB/s eta 0:00:04\n",
      "   ------------------ --------------------- 4.8/10.5 MB 1.6 MB/s eta 0:00:04\n",
      "   ------------------- -------------------- 5.0/10.5 MB 1.6 MB/s eta 0:00:04\n",
      "   ------------------- -------------------- 5.2/10.5 MB 1.6 MB/s eta 0:00:04\n",
      "   -------------------- ------------------- 5.4/10.5 MB 1.7 MB/s eta 0:00:04\n",
      "   --------------------- ------------------ 5.7/10.5 MB 1.7 MB/s eta 0:00:03\n",
      "   ---------------------- ----------------- 5.9/10.5 MB 1.8 MB/s eta 0:00:03\n",
      "   ----------------------- ---------------- 6.1/10.5 MB 1.8 MB/s eta 0:00:03\n",
      "   ------------------------ --------------- 6.3/10.5 MB 1.9 MB/s eta 0:00:03\n",
      "   ------------------------- -------------- 6.6/10.5 MB 1.9 MB/s eta 0:00:03\n",
      "   ------------------------- -------------- 6.8/10.5 MB 1.9 MB/s eta 0:00:02\n",
      "   -------------------------- ------------- 6.9/10.5 MB 2.0 MB/s eta 0:00:02\n",
      "   --------------------------- ------------ 7.1/10.5 MB 2.0 MB/s eta 0:00:02\n",
      "   --------------------------- ------------ 7.3/10.5 MB 2.0 MB/s eta 0:00:02\n",
      "   ---------------------------- ----------- 7.6/10.5 MB 2.0 MB/s eta 0:00:02\n",
      "   ----------------------------- ---------- 7.7/10.5 MB 2.1 MB/s eta 0:00:02\n",
      "   ------------------------------ --------- 7.9/10.5 MB 2.1 MB/s eta 0:00:02\n",
      "   ------------------------------ --------- 8.1/10.5 MB 2.1 MB/s eta 0:00:02\n",
      "   ------------------------------- -------- 8.3/10.5 MB 2.1 MB/s eta 0:00:02\n",
      "   ------------------------------- -------- 8.3/10.5 MB 2.1 MB/s eta 0:00:02\n",
      "   -------------------------------- ------- 8.5/10.5 MB 2.1 MB/s eta 0:00:01\n",
      "   --------------------------------- ------ 8.8/10.5 MB 2.2 MB/s eta 0:00:01\n",
      "   ---------------------------------- ----- 9.0/10.5 MB 2.2 MB/s eta 0:00:01\n",
      "   ----------------------------------- ---- 9.2/10.5 MB 2.2 MB/s eta 0:00:01\n",
      "   ----------------------------------- ---- 9.4/10.5 MB 2.2 MB/s eta 0:00:01\n",
      "   ------------------------------------ --- 9.6/10.5 MB 2.3 MB/s eta 0:00:01\n",
      "   ------------------------------------- -- 9.8/10.5 MB 2.3 MB/s eta 0:00:01\n",
      "   ------------------------------------- -- 10.0/10.5 MB 2.3 MB/s eta 0:00:01\n",
      "   -------------------------------------- - 10.2/10.5 MB 2.3 MB/s eta 0:00:01\n",
      "   ---------------------------------------  10.3/10.5 MB 2.5 MB/s eta 0:00:01\n",
      "   ---------------------------------------  10.5/10.5 MB 3.2 MB/s eta 0:00:01\n",
      "   ---------------------------------------- 10.5/10.5 MB 3.1 MB/s eta 0:00:00\n",
      "Downloading trio-0.25.0-py3-none-any.whl (467 kB)\n",
      "   ---------------------------------------- 0.0/467.2 kB ? eta -:--:--\n",
      "   ---------------------------- ----------- 327.7/467.2 kB 6.8 MB/s eta 0:00:01\n",
      "   ---------------------------------------- 467.2/467.2 kB 5.9 MB/s eta 0:00:00\n",
      "Downloading trio_websocket-0.11.1-py3-none-any.whl (17 kB)\n",
      "Downloading typing_extensions-4.10.0-py3-none-any.whl (33 kB)\n",
      "Downloading PySocks-1.7.1-py3-none-any.whl (16 kB)\n",
      "Downloading wsproto-1.2.0-py3-none-any.whl (24 kB)\n",
      "Downloading outcome-1.3.0.post0-py2.py3-none-any.whl (10 kB)\n",
      "Downloading sortedcontainers-2.4.0-py2.py3-none-any.whl (29 kB)\n",
      "Installing collected packages: sortedcontainers, wsproto, typing_extensions, pysocks, outcome, trio, trio-websocket, selenium\n",
      "Successfully installed outcome-1.3.0.post0 pysocks-1.7.1 selenium-4.19.0 sortedcontainers-2.4.0 trio-0.25.0 trio-websocket-0.11.1 typing_extensions-4.10.0 wsproto-1.2.0\n"
     ]
    }
   ],
   "source": [
    "pip install selenium"
   ]
  },
  {
   "cell_type": "code",
   "execution_count": 2,
   "id": "12b83a36-ea11-434d-927f-fe84a5a560ab",
   "metadata": {},
   "outputs": [
    {
     "name": "stdout",
     "output_type": "stream",
     "text": [
      "Requirement already satisfied: requests in c:\\users\\burra\\appdata\\local\\programs\\python\\python312\\lib\\site-packages (2.31.0)\n",
      "Requirement already satisfied: charset-normalizer<4,>=2 in c:\\users\\burra\\appdata\\local\\programs\\python\\python312\\lib\\site-packages (from requests) (3.3.2)\n",
      "Requirement already satisfied: idna<4,>=2.5 in c:\\users\\burra\\appdata\\local\\programs\\python\\python312\\lib\\site-packages (from requests) (3.6)\n",
      "Requirement already satisfied: urllib3<3,>=1.21.1 in c:\\users\\burra\\appdata\\local\\programs\\python\\python312\\lib\\site-packages (from requests) (2.2.1)\n",
      "Requirement already satisfied: certifi>=2017.4.17 in c:\\users\\burra\\appdata\\local\\programs\\python\\python312\\lib\\site-packages (from requests) (2024.2.2)\n",
      "Note: you may need to restart the kernel to use updated packages.\n"
     ]
    }
   ],
   "source": [
    "pip install requests"
   ]
  },
  {
   "cell_type": "code",
   "execution_count": 3,
   "id": "1640c849-503b-4ae5-a00a-2962d70e9d68",
   "metadata": {},
   "outputs": [
    {
     "name": "stdout",
     "output_type": "stream",
     "text": [
      "Requirement already satisfied: beautifulsoup4 in c:\\users\\burra\\appdata\\local\\programs\\python\\python312\\lib\\site-packages (4.12.3)\n",
      "Requirement already satisfied: soupsieve>1.2 in c:\\users\\burra\\appdata\\local\\programs\\python\\python312\\lib\\site-packages (from beautifulsoup4) (2.5)\n",
      "Note: you may need to restart the kernel to use updated packages.\n"
     ]
    }
   ],
   "source": [
    "pip install beautifulsoup4"
   ]
  },
  {
   "cell_type": "code",
   "execution_count": 1,
   "id": "783ac42a-831b-4cc4-8cfd-d18aff44a347",
   "metadata": {},
   "outputs": [],
   "source": [
    "from selenium import webdriver\n",
    "from bs4 import BeautifulSoup\n",
    "import time"
   ]
  },
  {
   "cell_type": "code",
   "execution_count": 2,
   "id": "ef2b2484-e84c-452e-a32d-0975729dfe9f",
   "metadata": {},
   "outputs": [],
   "source": [
    "driver = webdriver.Chrome()\n",
    "driver.get(\"https://www.flipkart.com/laptops/pr?sid=6bo,b5g\")"
   ]
  },
  {
   "cell_type": "code",
   "execution_count": 3,
   "id": "77d90e76-c660-4bc5-ba84-5f37872b1a45",
   "metadata": {},
   "outputs": [],
   "source": [
    "soup=BeautifulSoup(driver.page_source,'html.parser')"
   ]
  },
  {
   "cell_type": "code",
   "execution_count": 5,
   "id": "1f54c02c-4ddc-433f-85e4-0ed0e7034be7",
   "metadata": {},
   "outputs": [],
   "source": [
    "# taking the classes of laptop names, prices and ratings from website and storing different variables\n",
    "names = \"_4rR01T\"\n",
    "prices = \"_30jeq3 _1_WHN1\"\n",
    "rating = \"_3LWZlK\"\n"
   ]
  },
  {
   "cell_type": "code",
   "execution_count": 8,
   "id": "ec26c5c6-bd83-42e4-b9ba-acb497d19a78",
   "metadata": {},
   "outputs": [],
   "source": [
    "# Then by giving classes to beautifulsoup it retrieves the names, prices, and rating \n",
    "laptop_names=soup.find_all(class_=names)\n",
    "laptop_prices=soup.find_all(class_=prices)\n",
    "laptop_rating=soup.find_all(class_=rating)"
   ]
  },
  {
   "cell_type": "code",
   "execution_count": 21,
   "id": "79d8e75e-0ffb-4074-8f76-c85109f3665b",
   "metadata": {},
   "outputs": [],
   "source": [
    "# by using loops extracting names from the HTML code by using text or content to get only names and storing in a list\n",
    "lap_names=[]\n",
    "for i in laptop_names:\n",
    "    lap_names.append(i.text)\n"
   ]
  },
  {
   "cell_type": "code",
   "execution_count": 20,
   "id": "ae4d0b3b-2c0c-4b29-b7db-53c3b08dbc89",
   "metadata": {},
   "outputs": [],
   "source": [
    "# by using loops extracting prices from the HTML code by using text or content to get only prices and storing in a list\n",
    "lap_prices=[]\n",
    "for i in laptop_prices:\n",
    "    lap_prices.append(i.text)\n"
   ]
  },
  {
   "cell_type": "code",
   "execution_count": 19,
   "id": "b4b6a439-bd6f-4c98-82f6-0dde22816029",
   "metadata": {},
   "outputs": [],
   "source": [
    "# by using loops extracting ratings from the HTML code by using text or content to get only ratings and storing in a list\n",
    "lap_ratings=[]\n",
    "for i in laptop_rating:\n",
    "    lap_ratings.append(i.text)\n"
   ]
  },
  {
   "cell_type": "code",
   "execution_count": 25,
   "id": "b01ec192-9279-4b55-b6e3-7edee7b1e7dd",
   "metadata": {},
   "outputs": [
    {
     "data": {
      "text/plain": [
       "['Acer Aspire 3 Intel Core i3 12th Gen 1215U - (8 GB/512 GB SSD/Windows 11 Home) A315-59-36HE Thin and L...',\n",
       " 'HP OMEN Intel Core Ultra 7 155H - (16 GB/1 TB SSD/Windows 11 Home/8 GB Graphics/NVIDIA GeForce RTX 406...',\n",
       " 'HP 15s Intel Core i3 12th Gen 1215U - (8 GB/512 GB SSD/Windows 11 Home) 15s-fq5007TU Thin and Light La...',\n",
       " 'ASUS Vivobook 15 Intel Core i3 11th Gen 1115G4 - (8 GB/256 GB SSD/Windows 11 Home) X515EA-EJ312W Thin ...',\n",
       " 'SAMSUNG Galaxy Book 2 Intel Core i5 12th Gen 1235U - (8 GB/512 GB SSD/Windows 11 Home) NP550 Thin and ...',\n",
       " 'Lenovo V15 AMD Ryzen 3 Quad Core 7320U - (8 GB/512 GB SSD/Windows 11 Home) V15 G4 AMN 1 Thin and Light...',\n",
       " 'Acer Aspire 3 14 Metal Body Intel Core i3 12th Gen N305 - (8 GB/512 GB SSD/Windows 11 Pro) A314-36M Th...',\n",
       " 'HP Victus Intel Core i7 12th Gen 12650H - (16 GB/512 GB SSD/Windows 11 Home/4 GB Graphics/NVIDIA GeFor...',\n",
       " 'Lenovo IdeaPad Slim1 AMD Ryzen 5 Hexa Core 5500U - (8 GB/512 GB SSD/Windows 11 Home) 15ACL6 | 15ACL7 T...',\n",
       " 'ZEBRONICS Pro Series Z Intel Core i5 12th Gen 1235U - (8 GB/512 GB SSD/Windows 11 Home) ZEB-NBC 4S Thi...',\n",
       " 'HP Victus Intel Core i5 12th Gen 12450H - (16 GB/512 GB SSD/Windows 11 Home/4 GB Graphics/NVIDIA GeFor...',\n",
       " 'CHUWI Intel Celeron Dual Core 11th Gen N4020 - (8 GB/256 GB SSD/Windows 11 Home) HeroBook Pro Laptop',\n",
       " 'MSI Modern 14 AMD Ryzen 5 Hexa Core 7530U - (16 GB/512 GB SSD/Windows 11 Home) Modern 14 C7M-062IN Thi...',\n",
       " 'DELL Intel Core i3 12th Gen 1215U - (8 GB/512 GB SSD/Windows 11 Home) New Inspiron 15 Laptop Thin and ...',\n",
       " 'HP 255 G9 AMD Ryzen 3 Dual Core AMD Ryzen3 3250 - (8 GB/512 GB SSD/Windows 11 Home) 255 G8 Notebook No...',\n",
       " 'HP AMD Ryzen 5 Hexa Core 5500U - (8 GB/512 GB SSD/Windows 11 Home) 15s- eq2144au Thin and Light Laptop',\n",
       " 'Acer Aspire 7 Intel Core i5 12th Gen 12450H - (8 GB/512 GB SSD/Windows 11 Home/4 GB Graphics/NVIDIA Ge...',\n",
       " 'Acer Aspire 3 Intel Core i5 12th Gen 1235U - (16 GB/512 GB SSD/Windows 11 Home) A315-59 Thin and Light...',\n",
       " 'DELL Intel Core i5 11th Gen 1135G7 - (8 GB/512 GB SSD/Windows 11 Home) Vostro 3520 Laptop',\n",
       " 'Lenovo V15 Series AMD Athlon Dual Core 7120U - (8 GB/512 GB SSD/Windows 11 Home) V15 Thin and Light La...',\n",
       " 'Acer Swift Go 14 AI Powered EVO Intel Core Ultra 5 125H - (16 GB/512 GB SSD/Windows 11 Home) SFG14-72T...',\n",
       " 'Acer Aspire 7 Intel Core i5 12th Gen 12450H - (16 GB/512 GB SSD/Windows 11 Home/4 GB Graphics/NVIDIA G...',\n",
       " 'Lenovo IdeaPad Slim 3 Intel Core i5 12th Gen 1235U - (8 GB/512 GB SSD/Windows 11 Home) 15IAU7 Thin and...',\n",
       " 'ASUS Vivobook 15 Intel Core i3 12th Gen 1215U - (16 GB/512 GB SSD/Windows 11 Home) X1502ZA-EJ993WS Thi...']"
      ]
     },
     "execution_count": 25,
     "metadata": {},
     "output_type": "execute_result"
    }
   ],
   "source": [
    "lap_names"
   ]
  },
  {
   "cell_type": "code",
   "execution_count": 26,
   "id": "b9f478a4-6552-4f07-b728-f4e30970fa40",
   "metadata": {},
   "outputs": [
    {
     "data": {
      "text/plain": [
       "['₹30,990',\n",
       " '₹1,74,990',\n",
       " '₹37,290',\n",
       " '₹28,990',\n",
       " '₹44,990',\n",
       " '₹27,990',\n",
       " '₹31,990',\n",
       " '₹79,990',\n",
       " '₹36,990',\n",
       " '₹29,990',\n",
       " '₹66,990',\n",
       " '₹16,990',\n",
       " '₹37,990',\n",
       " '₹35,350',\n",
       " '₹25,990',\n",
       " '₹37,949',\n",
       " '₹52,990',\n",
       " '₹43,990',\n",
       " '₹42,990',\n",
       " '₹24,890',\n",
       " '₹75,990',\n",
       " '₹54,990',\n",
       " '₹47,990',\n",
       " '₹39,990']"
      ]
     },
     "execution_count": 26,
     "metadata": {},
     "output_type": "execute_result"
    }
   ],
   "source": [
    "lap_prices"
   ]
  },
  {
   "cell_type": "code",
   "execution_count": 27,
   "id": "474f47d7-05cb-461a-94d8-9e347fb310ce",
   "metadata": {},
   "outputs": [
    {
     "data": {
      "text/plain": [
       "['4.5',\n",
       " '4.2',\n",
       " '4.3',\n",
       " '4.3',\n",
       " '4.3',\n",
       " '4.4',\n",
       " '4.2',\n",
       " '3.8',\n",
       " '4.2',\n",
       " '3.7',\n",
       " '4.3',\n",
       " '4.2',\n",
       " '4.1',\n",
       " '4.3',\n",
       " '4.2',\n",
       " '4',\n",
       " '4.1',\n",
       " '4.3',\n",
       " '3.9',\n",
       " '4.2',\n",
       " '4.2',\n",
       " '4.3',\n",
       " '3.8',\n",
       " '5',\n",
       " '5',\n",
       " '4.1',\n",
       " '1',\n",
       " '3',\n",
       " '4.5',\n",
       " '5',\n",
       " '5',\n",
       " '4.2',\n",
       " '5',\n",
       " '3',\n",
       " '3.9',\n",
       " '4',\n",
       " '5']"
      ]
     },
     "execution_count": 27,
     "metadata": {},
     "output_type": "execute_result"
    }
   ],
   "source": [
    "lap_ratings"
   ]
  },
  {
   "cell_type": "code",
   "execution_count": null,
   "id": "63b6dbaa-6600-44f6-8223-74173b10e4a8",
   "metadata": {},
   "outputs": [],
   "source": []
  }
 ],
 "metadata": {
  "kernelspec": {
   "display_name": "Python 3 (ipykernel)",
   "language": "python",
   "name": "python3"
  },
  "language_info": {
   "codemirror_mode": {
    "name": "ipython",
    "version": 3
   },
   "file_extension": ".py",
   "mimetype": "text/x-python",
   "name": "python",
   "nbconvert_exporter": "python",
   "pygments_lexer": "ipython3",
   "version": "3.12.2"
  }
 },
 "nbformat": 4,
 "nbformat_minor": 5
}
